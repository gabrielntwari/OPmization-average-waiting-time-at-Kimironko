{
 "cells": [
  {
   "cell_type": "code",
   "execution_count": 3,
   "id": "b0e72b50",
   "metadata": {},
   "outputs": [],
   "source": [
    "import pandas as pd\n",
    "import matplotlib.pyplot as plt\n",
    "import numpy as np\n",
    "import math\n",
    "import scipy.stats as stats\n"
   ]
  },
  {
   "cell_type": "code",
   "execution_count": 4,
   "id": "d5a5e599",
   "metadata": {},
   "outputs": [],
   "source": [
    "Town = pd.read_excel(\"Town.xlsx\", sheet_name='Passenger Arrival Time')\n",
    "Kabuga = pd.read_excel('Kabuga.xls', sheet_name='Passenger Arrival Time')\n",
    "Zindiro = pd.read_excel('Zindiro.xlsx', sheet_name='Passenger Arrival Time')"
   ]
  },
  {
   "cell_type": "code",
   "execution_count": 5,
   "id": "c519e2cd",
   "metadata": {},
   "outputs": [
    {
     "data": {
      "image/png": "[encoded data removed]",
      "text/plain": [
       "<Figure size 432x288 with 1 Axes>"
      ]
     },
     "metadata": {
      "needs_background": "light"
     },
     "output_type": "display_data"
    },
    {
     "name": "stdout",
     "output_type": "stream",
     "text": [
      "The p-value for Town is: 2.1310947902300424e-21\n"
     ]
    }
   ],
   "source": [
    "#CHECKING THE DISTRIBUTION OF INTER ARRIVAL TIME FOR TOWN\n",
    "\n",
    "inter_arrival_relative_freq = Town['Inter Arrival Time'].value_counts(normalize=True)\n",
    "pmf_inter_arrival_town = pd.DataFrame(inter_arrival_relative_freq)\n",
    "pmf_inter_arrival_town = pmf_inter_arrival_town.reset_index().rename(columns={'index':'Inter Arrival Time', 'Inter Arrival Time' : \"Freq\"} )\n",
    "\n",
    "n_bins3 = plt.bar(pmf_inter_arrival_town['Inter Arrival Time'], pmf_inter_arrival_town['Freq'])\n",
    "\n",
    "plt.ylabel(\"Relative Frequency\")\n",
    "plt.xlabel(\"Inter-Arrival\")\n",
    "plt.title(\"PMF of Inter-Arrivals (Down Town)\")\n",
    "plt.show()\n",
    "\n",
    "# TESTING CHI SQUARE GOODNESS OF FIT TO CONFIRM EXPONENTIAL \n",
    "# INTER ARRIVAL OR NOT\n",
    "town_expected = np.random.exponential(2.0769, 82)\n",
    "town_chi_square = stats.chisquare(f_obs=Town['Inter Arrival Time'], f_exp=town_expected)\n",
    "print(\"The p-value for Town is: \" + str(town_chi_square[1]))"
   ]
  },
  {
   "cell_type": "code",
   "execution_count": 6,
   "id": "891db8fb",
   "metadata": {},
   "outputs": [
    {
     "data": {
      "image/png": "[encoded data removed]",
      "text/plain": [
       "<Figure size 432x288 with 1 Axes>"
      ]
     },
     "metadata": {
      "needs_background": "light"
     },
     "output_type": "display_data"
    },
    {
     "name": "stdout",
     "output_type": "stream",
     "text": [
      "The p-value for Kabuga is: 0.1153100230042019\n"
     ]
    }
   ],
   "source": [
    "#CHECKING THE DISTRIBUTION OF INTER ARRIVAL TIME FOR KABUGA\n",
    "\n",
    "inter_arrival_relative_freq = Kabuga['Inter Arrival Time'].value_counts(normalize=True)\n",
    "pmf_inter_arrival_Kabuga = pd.DataFrame(inter_arrival_relative_freq)\n",
    "pmf_inter_arrival_Kabuga = pmf_inter_arrival_Kabuga.reset_index().rename(columns={'index':'Inter Arrival Time', 'Inter Arrival Time' : \"Freq\"} )\n",
    "\n",
    "n_bins3 = plt.bar(pmf_inter_arrival_Kabuga['Inter Arrival Time'], pmf_inter_arrival_Kabuga['Freq'])\n",
    "\n",
    "plt.ylabel(\"Relative Frequency\")\n",
    "plt.xlabel(\"Inter-Arrival\")\n",
    "plt.title(\"PMF of Inter-Arrivals (Down Kabuga)\")\n",
    "plt.show()\n",
    "\n",
    "# TESTING CHI SQUARE GOODNESS OF FIT TO CONFIRM EXPONENTIAL \n",
    "# INTER ARRIVAL OR NOT\n",
    "Kabuga_expected = np.random.exponential(1.7, 35)\n",
    "Kabuga_chi_square = stats.chisquare(f_obs=Kabuga['Inter Arrival Time'], f_exp=Kabuga_expected)\n",
    "print(\"The p-value for Kabuga is: \" + str(Kabuga_chi_square[1]))"
   ]
  },
  {
   "cell_type": "code",
   "execution_count": 7,
   "id": "f606b7b8",
   "metadata": {},
   "outputs": [
    {
     "data": {
      "image/png": "[encoded data removed]",
      "text/plain": [
       "<Figure size 432x288 with 1 Axes>"
      ]
     },
     "metadata": {
      "needs_background": "light"
     },
     "output_type": "display_data"
    },
    {
     "name": "stdout",
     "output_type": "stream",
     "text": [
      "The p-value for Zindiro is: 3.6278119971385657e-47\n"
     ]
    }
   ],
   "source": [
    "#CHECKING THE DISTRIBUTION OF INTER ARRIVAL TIME FOR ZINDIRO\n",
    "\n",
    "inter_arrival_relative_freq = Zindiro['Inter Arrival Time'].value_counts(normalize=True)\n",
    "pmf_inter_arrival_Zindiro = pd.DataFrame(inter_arrival_relative_freq)\n",
    "pmf_inter_arrival_Zindiro = pmf_inter_arrival_Zindiro.reset_index().rename(columns={'index':'Inter Arrival Time', 'Inter Arrival Time' : \"Freq\"} )\n",
    "\n",
    "n_bins3 = plt.bar(pmf_inter_arrival_Zindiro['Inter Arrival Time'], pmf_inter_arrival_Zindiro['Freq'])\n",
    "\n",
    "plt.ylabel(\"Relative Frequency\")\n",
    "plt.xlabel(\"Inter-Arrival\")\n",
    "plt.title(\"PMF of Inter-Arrivals (Down Zindiro)\")\n",
    "plt.show()\n",
    "\n",
    "# TESTING CHI SQUARE GOODNESS OF FIT TO CONFIRM EXPONENTIAL \n",
    "# INTER ARRIVAL OR NOT\n",
    "Zindiro_expected = np.random.exponential(0.2, 190)\n",
    "Zindiro_chi_square = stats.chisquare(f_obs=Zindiro['Inter Arrival Time'], f_exp=Zindiro_expected)\n",
    "print(\"The p-value for Zindiro is: \" + str(Zindiro_chi_square[1]))"
   ]
  },
  {
   "cell_type": "code",
   "execution_count": 8,
   "id": "dd1f83c6",
   "metadata": {},
   "outputs": [
    {
     "name": "stdout",
     "output_type": "stream",
     "text": [
      "The average waiting time for Town is: 2.2206395077542873\n",
      "The utilization factor for Town is: 0.7080340909090909\n",
      "The arrival rate for Town is: 2.0769\n",
      "The service rate for Town is: 2.9333333333333336\n"
     ]
    }
   ],
   "source": [
    "# CALCULATION OF AVERAGE WAITING TIME TOWN\n",
    "no_seats = 220\n",
    "journey_time = 40+35\n",
    "serv_time = journey_time / no_seats\n",
    "serv_rate = 1/serv_time\n",
    "arr_rate = 2.0769\n",
    "c = 1\n",
    "c_1 = math.factorial(c)\n",
    "p = arr_rate / (c * serv_rate)\n",
    "\n",
    "\n",
    "sum_ = 0\n",
    "for m in range(c):\n",
    "    m_1 = math.factorial(m)\n",
    "    term1 = ((c*p)**m)/m_1\n",
    "    term2 = ((c*p)**c)/(c_1*(1-p))\n",
    "    sum_ += term1 + term2\n",
    "    \n",
    "p_0 = 1/sum_\n",
    "\n",
    "l_q = (p_0*((arr_rate/serv_rate)**c)*p)/(c_1 * ((1-p)**2))\n",
    "\n",
    "w_q_mmc = l_q/arr_rate\n",
    "\n",
    "max_serv = serv_time + 0.5\n",
    "min_serv = serv_time  - 0.5\n",
    "\n",
    "var_serv = (((max_serv - min_serv)**2))/12\n",
    "\n",
    "var_inter = 0.9027\n",
    "mean_inter = 0.48148\n",
    "\n",
    "c_a = var_inter / (mean_inter)**2\n",
    "\n",
    "c_s = var_serv/(1/serv_rate)**2\n",
    "\n",
    "w_q_ggc = w_q_mmc * ((c_a + c_s)/2)\n",
    "\n",
    "\n",
    "e = arr_rate/(serv_rate * (serv_rate - arr_rate))\n",
    "\n",
    "l_approx = ((p**2) * (1 + c_s) * (c_a + c_s*(p**2))) / (2 * (1-p) * (1 + c_s*(p**2)))\n",
    "\n",
    "w_q_mmc_approx = l_approx/arr_rate\n",
    "\n",
    "\n",
    "print(\"The average waiting time for Town is: \" + str(w_q_mmc_approx))\n",
    "print(\"The utilization factor for Town is: \" + str(p))\n",
    "print(\"The arrival rate for Town is: \" + str(arr_rate))\n",
    "print(\"The service rate for Town is: \" + str(serv_rate))"
   ]
  },
  {
   "cell_type": "code",
   "execution_count": 9,
   "id": "1b0f77b7",
   "metadata": {},
   "outputs": [
    {
     "name": "stdout",
     "output_type": "stream",
     "text": [
      "The average waiting time for Zindiro is: 8.338514546819006\n",
      "The utilization factor for Zindiro is: 0.8988578313253012\n",
      "The arrival rate for Zindiro is: 4.97368\n",
      "The service rate for Zindiro is: 5.533333333333333\n"
     ]
    }
   ],
   "source": [
    "# CALCULATION OF AVERAGE WAITING TIME ZINDIRO\n",
    "no_seats = 83 * 4\n",
    "journey_time = 15 + 45\n",
    "serv_time = journey_time / no_seats\n",
    "serv_rate = 1/serv_time\n",
    "arr_rate = 4.97368\n",
    "c = 1\n",
    "c_1 = math.factorial(c)\n",
    "p = arr_rate / (c * serv_rate)\n",
    "\n",
    "\n",
    "sum_ = 0\n",
    "for m in range(c):\n",
    "    m_1 = math.factorial(m)\n",
    "    term1 = ((c*p)**m)/m_1\n",
    "    term2 = ((c*p)**c)/(c_1*(1-p))\n",
    "    sum_ += term1 + term2\n",
    "    \n",
    "p_0 = 1/sum_\n",
    "\n",
    "l_q = (p_0*((arr_rate/serv_rate)**c)*p)/(c_1 * ((1-p)**2))\n",
    "\n",
    "w_q_mmc = l_q/arr_rate\n",
    "\n",
    "max_serv = serv_time + 0.5\n",
    "min_serv = serv_time  - 0.5\n",
    "\n",
    "var_serv = (((max_serv - min_serv)**2))/12\n",
    "\n",
    "var_inter = 0.2785\n",
    "\n",
    "mean_inter = 0.201058\n",
    "\n",
    "c_a = var_inter / (mean_inter)**2\n",
    "\n",
    "c_s = var_serv/(1/serv_rate)**2\n",
    "\n",
    "w_q_ggc = w_q_mmc * ((c_a + c_s)/2)\n",
    "\n",
    "\n",
    "e = arr_rate/(serv_rate * (serv_rate - arr_rate))\n",
    "\n",
    "l_approx = ((p**2) * (1 + c_s) * (c_a + c_s*(p**2))) / (2 * (1-p) * (1 + c_s*(p**2)))\n",
    "\n",
    "w_q_mmc_approx = l_approx/arr_rate\n",
    "\n",
    "\n",
    "print(\"The average waiting time for Zindiro is: \" + str(w_q_mmc_approx))\n",
    "print(\"The utilization factor for Zindiro is: \" + str(p))\n",
    "print(\"The arrival rate for Zindiro is: \" + str(arr_rate))\n",
    "print(\"The service rate for Zindiro is: \" + str(serv_rate))"
   ]
  },
  {
   "cell_type": "code",
   "execution_count": 10,
   "id": "eb0c45e7",
   "metadata": {},
   "outputs": [
    {
     "name": "stdout",
     "output_type": "stream",
     "text": [
      "The utilization factor for Kabuga is: 1.0625\n",
      "The queue of Kabuga is: unstable. Hence the average waiting time is not applicable \n",
      "The arrival rate for Kabuga is: 1.7\n",
      "The service rate for Kabuga is: 1.6\n"
     ]
    }
   ],
   "source": [
    "# CALCULATION OF AVERAGE WAITING TIME KABUGA\n",
    "no_seats = 22 * 4\n",
    "journey_time = 40 + 15\n",
    "serv_time = journey_time / no_seats\n",
    "serv_rate = 1/serv_time\n",
    "arr_rate = 1.7\n",
    "c = 1\n",
    "c_1 = math.factorial(c)\n",
    "p = arr_rate / (c * serv_rate)\n",
    "\n",
    "\n",
    "sum_ = 0\n",
    "for m in range(c):\n",
    "    m_1 = math.factorial(m)\n",
    "    term1 = ((c*p)**m)/m_1\n",
    "    term2 = ((c*p)**c)/(c_1*(1-p))\n",
    "    sum_ += term1 + term2\n",
    "    \n",
    "p_0 = 1/sum_\n",
    "\n",
    "l_q = (p_0*((arr_rate/serv_rate)**c)*p)/(c_1 * ((1-p)**2))\n",
    "\n",
    "w_q_mmc = l_q/arr_rate\n",
    "\n",
    "max_serv = serv_time + 0.5\n",
    "min_serv = serv_time  - 0.5\n",
    "\n",
    "var_serv = (((max_serv - min_serv)**2))/12\n",
    "\n",
    "var_inter = 0.5512605042\n",
    "mean_inter = 0.5142857143\n",
    "\n",
    "c_a = var_inter / (mean_inter)**2\n",
    "\n",
    "c_s = var_serv/(1/serv_rate)**2\n",
    "\n",
    "w_q_ggc = w_q_mmc * ((c_a + c_s)/2)\n",
    "\n",
    "\n",
    "e = arr_rate/(serv_rate * (serv_rate - arr_rate))\n",
    "\n",
    "l_approx = ((p**2) * (1 + c_s) * (c_a + c_s*(p**2))) / (2 * (1-p) * (1 + c_s*(p**2)))\n",
    "\n",
    "w_q_mmc_approx = l_approx/arr_rate\n",
    "\n",
    "\n",
    "print(\"The utilization factor for Kabuga is: \" + str(p))\n",
    "print(\"The queue of Kabuga is: unstable. Hence the average waiting time is not applicable \")\n",
    "print(\"The arrival rate for Kabuga is: \" + str(arr_rate))\n",
    "print(\"The service rate for Kabuga is: \" + str(serv_rate))"
   ]
  },
  {
   "cell_type": "code",
   "execution_count": null,
   "id": "ecca13c9",
   "metadata": {},
   "outputs": [],
   "source": []
  }
 ],
 "metadata": {
  "kernelspec": {
   "display_name": "Python 3",
   "language": "python",
   "name": "python3"
  }
 },
 "nbformat": 4,
 "nbformat_minor": 5
}
